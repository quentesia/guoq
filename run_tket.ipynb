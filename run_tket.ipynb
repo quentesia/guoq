{
 "cells": [
  {
   "cell_type": "code",
   "execution_count": 7,
   "id": "cbd0f476-b337-49c9-b3fa-51d4781816e8",
   "metadata": {},
   "outputs": [],
   "source": [
    "import io, contextlib, os\n",
    "from pytket.circuit.display import render_circuit_jupyter as draw\n",
    "from pytket.predicates import CompilationUnit\n",
    "from pytket.qasm import circuit_from_qasm, circuit_to_qasm_str\n",
    "from pytket.extensions.qiskit import AerBackend\n",
    "from pathlib import Path\n",
    "from concurrent.futures import ProcessPoolExecutor\n"
   ]
  },
  {
   "cell_type": "code",
   "execution_count": 5,
   "id": "6ee98e05-0fa3-43a3-ae13-8803b3496a49",
   "metadata": {},
   "outputs": [],
   "source": [
    "out_dir = Path(\"../results/tket_results/ibmnew\")\n",
    "out_dir.mkdir(parents=True, exist_ok=True)\n",
    "\n",
    "def run_circ(str_circ):\n",
    "    from pytket.extensions.qiskit import AerBackend\n",
    "    from pytket.qasm import circuit_from_qasm, circuit_to_qasm_str\n",
    "    from pytket.transform import CompilationUnit\n",
    "    from pathlib import Path\n",
    "\n",
    "    opt = AerBackend().default_compilation_pass(optimisation_level=3)\n",
    "    name = Path(str_circ).stem\n",
    "    out_file = Path(\"../results/tket_results/ibmnew\") / f\"{name}_ibmn_tket.qasm\"\n",
    "    if out_file.exists():\n",
    "        return\n",
    "    circ = circuit_from_qasm(str_circ)\n",
    "    cu = CompilationUnit(circ)\n",
    "    opt.apply(cu)\n",
    "    with open(out_file, \"w\") as f:\n",
    "        f.write(circuit_to_qasm_str(cu.circuit))\n",
    "    print(f\"Finished {name}\")"
   ]
  },
  {
   "cell_type": "code",
   "execution_count": 4,
   "id": "587b7380-9542-4fba-b326-0d013cd047b7",
   "metadata": {},
   "outputs": [
    {
     "name": "stdout",
     "output_type": "stream",
     "text": [
      "179\n"
     ]
    }
   ],
   "source": [
    "from pathlib import Path\n",
    "\n",
    "bench_dir = Path(\"benchmarks/ibmnew\")\n",
    "out_dir = Path(\"../results/tket_results/ibmnew\")\n",
    "\n",
    "circs = [\n",
    "    str(p) for p in bench_dir.rglob(\"*.qasm\")\n",
    "    if not (out_dir / f\"{p.stem}_ibmn_tket.qasm\").exists()\n",
    "]\n",
    "\n",
    "print(len(circs))\n",
    "\n",
    "with ProcessPoolExecutor(max_workers=10) as ex:\n",
    "    ex.map(run_circ, circs)"
   ]
  }
 ],
 "metadata": {
  "kernelspec": {
   "display_name": "Python (guoq)",
   "language": "python",
   "name": "jupenv"
  },
  "language_info": {
   "codemirror_mode": {
    "name": "ipython",
    "version": 3
   },
   "file_extension": ".py",
   "mimetype": "text/x-python",
   "name": "python",
   "nbconvert_exporter": "python",
   "pygments_lexer": "ipython3",
   "version": "3.11.2"
  }
 },
 "nbformat": 4,
 "nbformat_minor": 5
}
