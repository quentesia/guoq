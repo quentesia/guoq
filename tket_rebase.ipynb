{
 "cells": [
  {
   "cell_type": "code",
   "execution_count": null,
   "id": "c487121c-1b2a-44c5-a870-5fd37ee55e80",
   "metadata": {},
   "outputs": [],
   "source": [
    "import os, glob\n",
    "from concurrent.futures import ProcessPoolExecutor\n",
    "from pytket.qasm import circuit_from_qasm, circuit_to_qasm_str\n",
    "from pytket.passes import AutoRebase\n",
    "from pytket import OpType\n",
    "\n",
    "in_dir, out_dir = \"../results/tket_results/ion\", \"../results/tket_results/ionq\"\n",
    "os.makedirs(out_dir, exist_ok=True)\n",
    "rebase = AutoRebase({OpType.XXPhase, OpType.Rx, OpType.Ry, OpType.Rz})\n",
    "\n",
    "def process(path):\n",
    "    name = os.path.splitext(os.path.basename(path))[0]\n",
    "    out = f\"{out_dir}/{name}.qasm\"\n",
    "    if os.path.exists(out):\n",
    "        print(f\"Skipping {name}\")\n",
    "        return\n",
    "    print(f\"Processing {name}\")\n",
    "    c = circuit_from_qasm(path)\n",
    "    rebase.apply(c)\n",
    "    with open(out, \"w\") as f:\n",
    "        f.write(circuit_to_qasm_str(c))\n",
    "    print(f\"Done {name}\")\n",
    "\n",
    "paths = glob.glob(f\"{in_dir}/*.qasm\")\n",
    "with ProcessPoolExecutor(max_workers=12) as exe:\n",
    "    exe.map(process, paths)"
   ]
  },
  {
   "cell_type": "code",
   "execution_count": 2,
   "id": "9bc028a9-5a46-498d-a7c8-b24a448bccfe",
   "metadata": {},
   "outputs": [
    {
     "ename": "RuntimeError",
     "evalue": "No known decomposition from TK1 to available gateset.",
     "output_type": "error",
     "traceback": [
      "\u001b[31m---------------------------------------------------------------------------\u001b[39m",
      "\u001b[31mRuntimeError\u001b[39m                              Traceback (most recent call last)",
      "\u001b[36mCell\u001b[39m\u001b[36m \u001b[39m\u001b[32mIn[2]\u001b[39m\u001b[32m, line 11\u001b[39m\n\u001b[32m      8\u001b[39m out_dir = \u001b[33m\"\u001b[39m\u001b[33m../results/tket_results/nam_t_tdg_ct\u001b[39m\u001b[33m\"\u001b[39m\n\u001b[32m      9\u001b[39m os.makedirs(out_dir, exist_ok=\u001b[38;5;28;01mTrue\u001b[39;00m)\n\u001b[32m---> \u001b[39m\u001b[32m11\u001b[39m rebase = \u001b[43mAutoRebase\u001b[49m\u001b[43m(\u001b[49m\u001b[43m{\u001b[49m\n\u001b[32m     12\u001b[39m \u001b[43m    \u001b[49m\u001b[43mOpType\u001b[49m\u001b[43m.\u001b[49m\u001b[43mCX\u001b[49m\u001b[43m,\u001b[49m\n\u001b[32m     13\u001b[39m \u001b[43m    \u001b[49m\u001b[43mOpType\u001b[49m\u001b[43m.\u001b[49m\u001b[43mH\u001b[49m\u001b[43m,\u001b[49m\n\u001b[32m     14\u001b[39m \u001b[43m    \u001b[49m\u001b[43mOpType\u001b[49m\u001b[43m.\u001b[49m\u001b[43mS\u001b[49m\u001b[43m,\u001b[49m\n\u001b[32m     15\u001b[39m \u001b[43m    \u001b[49m\u001b[43mOpType\u001b[49m\u001b[43m.\u001b[49m\u001b[43mSdg\u001b[49m\u001b[43m,\u001b[49m\n\u001b[32m     16\u001b[39m \u001b[43m    \u001b[49m\u001b[43mOpType\u001b[49m\u001b[43m.\u001b[49m\u001b[43mT\u001b[49m\u001b[43m,\u001b[49m\n\u001b[32m     17\u001b[39m \u001b[43m    \u001b[49m\u001b[43mOpType\u001b[49m\u001b[43m.\u001b[49m\u001b[43mTdg\u001b[49m\u001b[43m,\u001b[49m\n\u001b[32m     18\u001b[39m \u001b[43m}\u001b[49m\u001b[43m)\u001b[49m\n\u001b[32m     20\u001b[39m \u001b[38;5;28;01mdef\u001b[39;00m\u001b[38;5;250m \u001b[39m\u001b[34mprocess\u001b[39m(path):\n\u001b[32m     21\u001b[39m     name = os.path.splitext(os.path.basename(path))[\u001b[32m0\u001b[39m]\n",
      "\u001b[31mRuntimeError\u001b[39m: No known decomposition from TK1 to available gateset."
     ]
    }
   ],
   "source": [
    "import os, glob\n",
    "from concurrent.futures import ProcessPoolExecutor\n",
    "from pytket.qasm import circuit_from_qasm, circuit_to_qasm_str\n",
    "from pytket.passes import AutoRebase\n",
    "from pytket import OpType\n",
    "\n",
    "in_dir  = \"../results/tket_results/nam_t_tdg\"\n",
    "out_dir = \"../results/tket_results/nam_t_tdg_ct\"\n",
    "os.makedirs(out_dir, exist_ok=True)\n",
    "\n",
    "rebase = AutoRebase({\n",
    "    OpType.CX,\n",
    "    OpType.H,\n",
    "    OpType.S,\n",
    "    OpType.Sdg,\n",
    "    OpType.T,\n",
    "    OpType.Tdg,\n",
    "})\n",
    "\n",
    "def process(path):\n",
    "    name = os.path.splitext(os.path.basename(path))[0]\n",
    "    out = f\"{out_dir}/{name}.qasm\"\n",
    "    if os.path.exists(out):\n",
    "        print(f\"Skipping {name}\")\n",
    "        return\n",
    "    print(f\"Processing {name}\")\n",
    "    c = circuit_from_qasm(path)\n",
    "    rebase.apply(c)\n",
    "    with open(out, \"w\") as f:\n",
    "        f.write(circuit_to_qasm_str(c))\n",
    "    print(f\"Done {name}\")\n",
    "\n",
    "paths = glob.glob(f\"{in_dir}/*.qasm\")\n",
    "with ProcessPoolExecutor(max_workers=12) as exe:\n",
    "    exe.map(process, paths)\n"
   ]
  }
 ],
 "metadata": {
  "kernelspec": {
   "display_name": "Python (guoq)",
   "language": "python",
   "name": "jupenv"
  },
  "language_info": {
   "codemirror_mode": {
    "name": "ipython",
    "version": 3
   },
   "file_extension": ".py",
   "mimetype": "text/x-python",
   "name": "python",
   "nbconvert_exporter": "python",
   "pygments_lexer": "ipython3",
   "version": "3.11.2"
  }
 },
 "nbformat": 4,
 "nbformat_minor": 5
}
