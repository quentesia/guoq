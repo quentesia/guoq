{
 "cells": [
  {
   "cell_type": "code",
   "execution_count": 15,
   "id": "80e85f70-93df-4dca-b924-9528d4749f28",
   "metadata": {},
   "outputs": [],
   "source": [
    "import pyzx as zx\n",
    "from concurrent.futures import ProcessPoolExecutor\n",
    "from concurrent.futures import TimeoutError as FutureTimeout\n",
    "import contextlib\n",
    "from pathlib import Path\n",
    "import signal\n",
    "from datetime import datetime"
   ]
  },
  {
   "cell_type": "code",
   "execution_count": 16,
   "id": "bcd9ff8e-58ca-4190-a026-99a7d038027f",
   "metadata": {},
   "outputs": [
    {
     "name": "stdout",
     "output_type": "stream",
     "text": [
      "2025-05-07 23:41:30.584159\n",
      "2025-05-07 23:41:31.265659\n",
      "2025-05-07 23:41:32.629625\n",
      "2025-05-07 23:46:30.584742\n",
      "2025-05-07 23:46:31.266256\n",
      "2025-05-07 23:46:32.629673\n",
      "ground_state_estimation_10: TIMEOUT\n",
      "urf4_187: TIMEOUT\n",
      "urf3_155: TIMEOUT\n"
     ]
    }
   ],
   "source": [
    "# # ---------- configuration ----------\n",
    "# MAX_OPT_TIME = 300            # seconds per circuit\n",
    "# MAX_WORKERS  = 12\n",
    "# QASM_DIR     = Path(\"benchmarks/nam_t_tdg\")\n",
    "# OUT_DIR      = Path(\"../results/pyzx_results\")\n",
    "# OUT_DIR.mkdir(parents=True, exist_ok=True)\n",
    "# # -----------------------------------\n",
    "\n",
    "# class Timeout(Exception):\n",
    "#     pass\n",
    "\n",
    "# def _handler(signum, frame):\n",
    "#     print(datetime.now())\n",
    "#     raise Timeout()\n",
    "\n",
    "# def optimize_one(qasm_path: str):\n",
    "#     \"\"\"optimise one circuit or return 'TIMEOUT / SKIP'.\"\"\"\n",
    "#     name     = Path(qasm_path).stem\n",
    "#     qasm_out = OUT_DIR / f\"{name}.qasm\"\n",
    "\n",
    "#     # skip if we already produced this file\n",
    "#     if qasm_out.exists():\n",
    "#         return name, \"SKIP\"\n",
    "\n",
    "#     circ = zx.Circuit.load(qasm_path)\n",
    "\n",
    "#     # per-process timeout using alarm\n",
    "#     signal.signal(signal.SIGALRM, _handler)\n",
    "#     signal.alarm(MAX_OPT_TIME)\n",
    "#     try:\n",
    "#         print(datetime.now())\n",
    "#         opt = zx.basic_optimization(circ, quiet=False)\n",
    "#         signal.alarm(0)                      # cancel alarm\n",
    "#         qasm_out.write_text(opt.to_qasm())   # save result\n",
    "#         return name, \"OK\"\n",
    "#     except Timeout:\n",
    "#         return name, \"TIMEOUT\"\n",
    "\n",
    "# # gather *.qasm still needing work\n",
    "# todo = [str(p) for p in QASM_DIR.glob(\"*.qasm\")\n",
    "#         if not (OUT_DIR / f\"{p.stem}.qasm\").exists()]\n",
    "\n",
    "# with ProcessPoolExecutor(max_workers=MAX_WORKERS) as pool:\n",
    "#     future_to_name = {pool.submit(optimize_one, f): Path(f).stem for f in todo}\n",
    "#     for fut in future_to_name:\n",
    "#         name = future_to_name[fut]\n",
    "#         try:\n",
    "#             name, status = fut.result()      # child already enforces timeout\n",
    "#         except Exception as e:\n",
    "#             status = f\"ERROR({e})\"\n",
    "#         print(f\"{name}: {status}\")\n"
   ]
  },
  {
   "cell_type": "code",
   "execution_count": 19,
   "id": "5bd95f1c-2e8b-4b32-9b15-4605fa0897ad",
   "metadata": {},
   "outputs": [
    {
     "ename": "ModuleNotFoundError",
     "evalue": "No module named 'pyzx.gates'",
     "output_type": "error",
     "traceback": [
      "\u001b[31m---------------------------------------------------------------------------\u001b[39m",
      "\u001b[31mModuleNotFoundError\u001b[39m                       Traceback (most recent call last)",
      "\u001b[36mCell\u001b[39m\u001b[36m \u001b[39m\u001b[32mIn[19]\u001b[39m\u001b[32m, line 4\u001b[39m\n\u001b[32m      2\u001b[39m \u001b[38;5;28;01mimport\u001b[39;00m\u001b[38;5;250m \u001b[39m\u001b[34;01mos\u001b[39;00m\n\u001b[32m      3\u001b[39m \u001b[38;5;66;03m# Corrected imports for specific gate classes\u001b[39;00m\n\u001b[32m----> \u001b[39m\u001b[32m4\u001b[39m \u001b[38;5;28;01mfrom\u001b[39;00m\u001b[38;5;250m \u001b[39m\u001b[34;01mpyzx\u001b[39;00m\u001b[34;01m.\u001b[39;00m\u001b[34;01mgates\u001b[39;00m\u001b[38;5;250m \u001b[39m\u001b[38;5;28;01mimport\u001b[39;00m ZGate, CZGate, SGate, HADGate, CNOTGate, PhaseGate, TGate, XGate \u001b[38;5;66;03m# Added XGate just in case, though not explicitly decomposed\u001b[39;00m\n\u001b[32m      6\u001b[39m source_dir = \u001b[33m\"\u001b[39m\u001b[33m../results/pyzx_results/nam_rz\u001b[39m\u001b[33m\"\u001b[39m\n\u001b[32m      7\u001b[39m target_dir = \u001b[33m\"\u001b[39m\u001b[33m../results/pyzx_results/nam_t_tdg\u001b[39m\u001b[33m\"\u001b[39m\n",
      "\u001b[31mModuleNotFoundError\u001b[39m: No module named 'pyzx.gates'"
     ]
    }
   ],
   "source": []
  }
 ],
 "metadata": {
  "kernelspec": {
   "display_name": "Python (guoq)",
   "language": "python",
   "name": "jupenv"
  },
  "language_info": {
   "codemirror_mode": {
    "name": "ipython",
    "version": 3
   },
   "file_extension": ".py",
   "mimetype": "text/x-python",
   "name": "python",
   "nbconvert_exporter": "python",
   "pygments_lexer": "ipython3",
   "version": "3.11.2"
  }
 },
 "nbformat": 4,
 "nbformat_minor": 5
}
